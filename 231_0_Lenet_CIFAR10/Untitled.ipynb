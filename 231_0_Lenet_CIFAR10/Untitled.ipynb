{
 "cells": [
  {
   "cell_type": "markdown",
   "metadata": {
    "collapsed": true
   },
   "source": [
    "# ConvNet(LeNet) on CIFAR10\n",
    "**Jiayu Wu | 905954229**"
   ]
  },
  {
   "cell_type": "markdown",
   "metadata": {},
   "source": [
    "## 1. Construction and Optimization\n",
    "\n",
    "Learning rate: $5 \\times 10^{-2}$, Num_epoch = 50, Test-accuracy: 74.4%.\n",
    "\n",
    "| - | - |\n",
    "|----|----|\n",
    "|<img src=\"https://raw.githubusercontent.com/Alice86/DeepLearning/master/231_0_Lenet_CIFAR10/1_loss.png\" style=\"width:370px;height:350px;\">|<img src=\"https://raw.githubusercontent.com/Alice86/DeepLearning/master/231_0_Lenet_CIFAR10/2_accuracy.png\" style=\"width:370px;height:350px;\">|"
   ]
  },
  {
   "cell_type": "markdown",
   "metadata": {},
   "source": [
    "## 2. Alteration of LeNet\n",
    "\n",
    "| LeNet | 3 Blocks | 2 Blocks | 1 Block |\n",
    "|-------|----------|----------|---------|\n",
    "| 74.4  |   65.4   |   63.2   |   47.7  |"
   ]
  },
  {
   "cell_type": "markdown",
   "metadata": {},
   "source": [
    "## 3. Visualization of Filters and Activations\n",
    "\n",
    "32 filters of the first convoluational layer:\n",
    "<img src=\"https://raw.githubusercontent.com/Alice86/DeepLearning/master/231_0_Lenet_CIFAR10/3_kernel.png\" style=\"width:600px;height:300px;\">\n",
    "\n",
    "Filter response maps for a sample image:\n",
    "\n",
    "|Sample Image |Filter response maps|\n",
    "|---  |---  |\n",
    "|<img src=\"https://raw.githubusercontent.com/Alice86/DeepLearning/master/231_0_Lenet_CIFAR10/4_data.png\" style=\"width:300px;height:300px;\"> | <img src=\"https://raw.githubusercontent.com/Alice86/DeepLearning/master/231_0_Lenet_CIFAR10/5_activations.png\" style=\"width:600px;height:300px;\"> |"
   ]
  },
  {
   "cell_type": "code",
   "execution_count": null,
   "metadata": {
    "collapsed": true
   },
   "outputs": [],
   "source": []
  }
 ],
 "metadata": {
  "kernelspec": {
   "display_name": "Python 3",
   "language": "python",
   "name": "python3"
  },
  "language_info": {
   "codemirror_mode": {
    "name": "ipython",
    "version": 3
   },
   "file_extension": ".py",
   "mimetype": "text/x-python",
   "name": "python",
   "nbconvert_exporter": "python",
   "pygments_lexer": "ipython3",
   "version": "3.6.3"
  }
 },
 "nbformat": 4,
 "nbformat_minor": 2
}
