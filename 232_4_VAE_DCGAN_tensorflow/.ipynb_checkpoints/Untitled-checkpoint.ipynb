{
 "cells": [
  {
   "cell_type": "code",
   "execution_count": 1,
   "metadata": {},
   "outputs": [
    {
     "name": "stderr",
     "output_type": "stream",
     "text": [
      "/Users/alice/anaconda3/lib/python3.6/site-packages/h5py/__init__.py:34: FutureWarning: Conversion of the second argument of issubdtype from `float` to `np.floating` is deprecated. In future, it will be treated as `np.float64 == np.dtype(float).type`.\n",
      "  from ._conv import register_converters as _register_converters\n"
     ]
    },
    {
     "name": "stdout",
     "output_type": "stream",
     "text": [
      "Extracting MNIST-data/train-images-idx3-ubyte.gz\n",
      "Extracting MNIST-data/train-labels-idx1-ubyte.gz\n",
      "Extracting MNIST-data/t10k-images-idx3-ubyte.gz\n",
      "Extracting MNIST-data/t10k-labels-idx1-ubyte.gz\n",
      "Epoch[ 0] Batch[  0/550] d_loss: 1.449764, g_loss: 0.703486\n",
      "Epoch[ 0] Batch[500/550] d_loss: 1.175909, g_loss: 1.139314\n",
      "Epoch[ 1] Batch[450/550] d_loss: 1.064216, g_loss: 1.126597\n",
      "Epoch[ 2] Batch[400/550] d_loss: 1.183323, g_loss: 1.344197\n",
      "Epoch[ 3] Batch[350/550] d_loss: 1.049568, g_loss: 0.855432\n",
      "Epoch[ 4] Batch[300/550] d_loss: 0.986249, g_loss: 1.026062\n",
      "Epoch[ 5] Batch[250/550] d_loss: 1.017526, g_loss: 0.926028\n",
      "Epoch[ 6] Batch[200/550] d_loss: 1.017193, g_loss: 1.315904\n",
      "Epoch[ 7] Batch[150/550] d_loss: 0.877765, g_loss: 1.238095\n",
      "Epoch[ 8] Batch[100/550] d_loss: 0.951357, g_loss: 1.298041\n",
      "Epoch[ 9] Batch[ 50/550] d_loss: 1.061852, g_loss: 0.837406\n",
      "Epoch[10] Batch[  0/550] d_loss: 1.387514, g_loss: 0.610796\n",
      "Epoch[10] Batch[500/550] d_loss: 1.171462, g_loss: 2.001701\n",
      "Epoch[11] Batch[450/550] d_loss: 0.955435, g_loss: 1.034152\n",
      "Epoch[12] Batch[400/550] d_loss: 1.020357, g_loss: 1.331858\n",
      "Epoch[13] Batch[350/550] d_loss: 0.983437, g_loss: 1.070521\n",
      "Epoch[14] Batch[300/550] d_loss: 0.859357, g_loss: 1.354384\n",
      "Epoch[15] Batch[250/550] d_loss: 0.926385, g_loss: 1.068763\n",
      "Epoch[16] Batch[200/550] d_loss: 0.887827, g_loss: 1.397119\n",
      "Epoch[17] Batch[150/550] d_loss: 0.715309, g_loss: 1.473728\n",
      "Epoch[18] Batch[100/550] d_loss: 0.879801, g_loss: 1.828461\n",
      "Epoch[19] Batch[ 50/550] d_loss: 0.885411, g_loss: 1.401668\n"
     ]
    }
   ],
   "source": [
    "%run './gan/main.py'"
   ]
  },
  {
   "cell_type": "markdown",
   "metadata": {
    "collapsed": true
   },
   "source": [
    "generater harder to train\n",
    "convolutional layers\n",
    "reuse"
   ]
  },
  {
   "cell_type": "code",
   "execution_count": null,
   "metadata": {
    "collapsed": true
   },
   "outputs": [],
   "source": []
  }
 ],
 "metadata": {
  "kernelspec": {
   "display_name": "Python 3",
   "language": "python",
   "name": "python3"
  },
  "language_info": {
   "codemirror_mode": {
    "name": "ipython",
    "version": 3
   },
   "file_extension": ".py",
   "mimetype": "text/x-python",
   "name": "python",
   "nbconvert_exporter": "python",
   "pygments_lexer": "ipython3",
   "version": "3.6.3"
  }
 },
 "nbformat": 4,
 "nbformat_minor": 2
}
