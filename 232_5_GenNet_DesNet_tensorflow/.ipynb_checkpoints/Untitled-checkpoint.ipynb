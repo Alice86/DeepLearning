{
 "cells": [
  {
   "cell_type": "markdown",
   "metadata": {},
   "source": [
    "# Generator Net"
   ]
  },
  {
   "cell_type": "code",
   "execution_count": 1,
   "metadata": {},
   "outputs": [
    {
     "name": "stderr",
     "output_type": "stream",
     "text": [
      "/usr/local/lib/python3.5/dist-packages/h5py/__init__.py:36: FutureWarning: Conversion of the second argument of issubdtype from `float` to `np.floating` is deprecated. In future, it will be treated as `np.float64 == np.dtype(float).type`.\n",
      "  from ._conv import register_converters as _register_converters\n"
     ]
    },
    {
     "name": "stdout",
     "output_type": "stream",
     "text": [
      "Loading dataset: ./Image/lion_tiger\n",
      "Data loaded, shape: (11, 64, 64, 3)\n",
      "Start training ...\n",
      "Epoch[ 0], train_loss: 106186.218750\n",
      "Epoch[50], train_loss: 52933.664062\n",
      "Epoch[100], train_loss: 40062.992188\n",
      "Epoch[150], train_loss: 38601.976562\n",
      "Epoch[200], train_loss: 32662.742188\n",
      "Epoch[250], train_loss: 43796.933594\n",
      "Epoch[300], train_loss: 32383.611328\n",
      "Epoch[350], train_loss: 27960.781250\n",
      "Epoch[400], train_loss: 49114.019531\n",
      "Epoch[450], train_loss: 37361.585938\n",
      "Epoch[500], train_loss: 50371.351562\n",
      "Epoch[550], train_loss: 37657.484375\n"
     ]
    }
   ],
   "source": [
    "import os\n",
    "# os.getcwd()\n",
    "os.chdir('./GenNet')\n",
    "%run main.py"
   ]
  },
  {
   "cell_type": "markdown",
   "metadata": {},
   "source": [
    "![Resconstruted images](GenNet/output/lion_tiger/sample/reconstruction.png)"
   ]
  },
  {
   "cell_type": "markdown",
   "metadata": {},
   "source": [
    "![Generated images](GenNet/output/lion_tiger/sample/generation.png)"
   ]
  },
  {
   "cell_type": "markdown",
   "metadata": {},
   "source": [
    "![Interpolated images](GenNet/output/lion_tiger/sample/inter.png)"
   ]
  },
  {
   "cell_type": "markdown",
   "metadata": {},
   "source": [
    "![Training loss 600 epoch](GenNet/output/lion_tiger/sample/loss.png)"
   ]
  },
  {
   "cell_type": "markdown",
   "metadata": {},
   "source": [
    "The figures above shows the training loss and generated images in 600 epoch. Despite fluctuation, the loss decrease monotonely，as the generated images increase in clarity. The model is a nonlinear generalization of factor analysis. It is proved by the interpolated images synthesized on a grid of two latent factors, from those images it can be observed that the two factors corresponds to the features of tiger and lion. On both factors, higher positive loadings gives rise to image resembling lion, while negative loadings represents the features of tiger."
   ]
  },
  {
   "cell_type": "markdown",
   "metadata": {},
   "source": [
    "# Descriptor Net"
   ]
  },
  {
   "cell_type": "code",
   "execution_count": 1,
   "metadata": {},
   "outputs": [
    {
     "name": "stderr",
     "output_type": "stream",
     "text": [
      "/usr/local/lib/python3.5/dist-packages/h5py/__init__.py:36: FutureWarning: Conversion of the second argument of issubdtype from `float` to `np.floating` is deprecated. In future, it will be treated as `np.float64 == np.dtype(float).type`.\n",
      "  from ._conv import register_converters as _register_converters\n"
     ]
    },
    {
     "name": "stdout",
     "output_type": "stream",
     "text": [
      "Loading dataset: ./Image/egret\n",
      "Data loaded, shape: (7, 64, 64, 3)\n",
      " Start training ...\n",
      "Epoch[ 0], train_loss: 0.447842\n",
      "Epoch[100], train_loss: -4821099.500000\n",
      "Epoch[200], train_loss: -1786476.000000\n",
      "Epoch[300], train_loss: -1484442.000000\n",
      "Epoch[400], train_loss: -2397879.000000\n",
      "Epoch[500], train_loss: -3194498.000000\n",
      "Epoch[600], train_loss: -2350266.000000\n",
      "Epoch[700], train_loss: -2374108.000000\n",
      "Epoch[800], train_loss: -4010210.000000\n",
      "Epoch[900], train_loss: -3783428.000000\n"
     ]
    }
   ],
   "source": [
    "import os\n",
    "# os.getcwd()\n",
    "os.chdir('./DesNet')\n",
    "%run main.py"
   ]
  },
  {
   "cell_type": "markdown",
   "metadata": {},
   "source": [
    "![Reconstructed images](DesNet/egret/sample/DesNet_out.png)"
   ]
  },
  {
   "cell_type": "markdown",
   "metadata": {},
   "source": [
    "The figure above showed the generated images in 100 to 900 epoaches. Because we use mean image as the initial input, the constucted image is colored patch at begining, then the quality of the images gradually increase in the training process as more complex features are learned."
   ]
  },
  {
   "cell_type": "markdown",
   "metadata": {},
   "source": [
    "![Training loss in 900 epoch](DesNet/egret/sample/loss.png)"
   ]
  },
  {
   "cell_type": "markdown",
   "metadata": {},
   "source": [
    "The training loss for the descripter net is negative with big fluctuations. The output of the descripter net is a score for how \"real\" the input image is, so the training loss as the difference betweem the score for the fake and the real is negative. In the learning process, this descriptive ability of this net is also improved, so the loss fluctuates."
   ]
  }
 ],
 "metadata": {
  "kernelspec": {
   "display_name": "Python 3",
   "language": "python",
   "name": "python3"
  },
  "language_info": {
   "codemirror_mode": {
    "name": "ipython",
    "version": 3
   },
   "file_extension": ".py",
   "mimetype": "text/x-python",
   "name": "python",
   "nbconvert_exporter": "python",
   "pygments_lexer": "ipython3",
   "version": "3.6.3"
  }
 },
 "nbformat": 4,
 "nbformat_minor": 2
}
