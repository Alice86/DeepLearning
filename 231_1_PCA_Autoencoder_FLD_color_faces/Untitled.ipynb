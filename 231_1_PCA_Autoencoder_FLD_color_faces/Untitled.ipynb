{
 "cells": [
  {
   "cell_type": "markdown",
   "metadata": {},
   "source": [
    "# Face Image Recognition\n",
    "** --- Compression & Discrimination by PCA, AutoEncoder, FLD**\n",
    "\n",
    "**Jiayu WU | 905054229**\n",
    "\n",
    "## 1. PCA - dimension reduction\n",
    "\n",
    "<img src=\"https://raw.githubusercontent.com/Alice86/DeepLearning/master/231_1_PCA_Autoencoder_FLD_color_faces/fig/Fig1_1_1.png\"> \n",
    "\n",
    "<img src=\"https://raw.githubusercontent.com/Alice86/DeepLearning/master/231_1_PCA_Autoencoder_FLD_color_faces/fig/Fig1_1_2.png\"> \n",
    "\n",
    "<img src=\"https://raw.githubusercontent.com/Alice86/DeepLearning/master/231_1_PCA_Autoencoder_FLD_color_faces/fig/Fig1_1_3.png\"> \n",
    "\n",
    "<img src=\"https://raw.githubusercontent.com/Alice86/DeepLearning/master/231_1_PCA_Autoencoder_FLD_color_faces/fig/Fig1_2_1.png\"> \n",
    "\n",
    "<img src=\"https://raw.githubusercontent.com/Alice86/DeepLearning/master/231_1_PCA_Autoencoder_FLD_color_faces/fig/Fig1_2_2.png\">\n",
    "\n",
    "| - | - | - |\n",
    "|----|----|----|\n",
    "|<img src=\"https://raw.githubusercontent.com/Alice86/DeepLearning/master/231_1_PCA_Autoencoder_FLD_color_faces/fig/Fig1_1_3.png\" style=\"width:370px;height:350px;\">|<img src=\"https://raw.githubusercontent.com/Alice86/DeepLearning/master/231_1_PCA_Autoencoder_FLD_color_faces/fig/Fig1_2_2.png\" style=\"width:370px;height:350px;\">|<img src=\"https://raw.githubusercontent.com/Alice86/DeepLearning/master/231_1_PCA_Autoencoder_FLD_color_faces/fig/Fig1_2_2.png\" style=\"width:370px;height:350px;\">|\n"
   ]
  },
  {
   "cell_type": "markdown",
   "metadata": {},
   "source": [
    "## 2. AutoEncoder  - nonlinear generalization"
   ]
  },
  {
   "cell_type": "markdown",
   "metadata": {},
   "source": [
    "## 3. FLD - discrimination by linear projection"
   ]
  }
 ],
 "metadata": {
  "kernelspec": {
   "display_name": "Python 3",
   "language": "python",
   "name": "python3"
  },
  "language_info": {
   "codemirror_mode": {
    "name": "ipython",
    "version": 3
   },
   "file_extension": ".py",
   "mimetype": "text/x-python",
   "name": "python",
   "nbconvert_exporter": "python",
   "pygments_lexer": "ipython3",
   "version": "3.6.3"
  }
 },
 "nbformat": 4,
 "nbformat_minor": 2
}
